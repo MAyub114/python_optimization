{
 "cells": [
  {
   "cell_type": "markdown",
   "metadata": {},
   "source": [
    "# Python optimization"
   ]
  },
  {
   "cell_type": "code",
   "execution_count": 1,
   "metadata": {},
   "outputs": [],
   "source": [
    "import timeit\n",
    "import requests"
   ]
  },
  {
   "cell_type": "code",
   "execution_count": 11,
   "metadata": {},
   "outputs": [],
   "source": [
    "# Slow list append\n",
    "def loop_list_append():\n",
    "    list_object = []\n",
    "    for i in range(100):\n",
    "        list_object.append(i)\n",
    "\n",
    "\n",
    "# Fast list append\n",
    "def comprehension_list_append():\n",
    "    [i for i in range(100)]\n",
    "\n",
    "\n",
    "# Slow string concatenation\n",
    "def addition_assignment_string():\n",
    "    obj = [\"hello\", \"my\", \"name\", \"is\", \"Ayub\", \"!\"]\n",
    "    s = \"\"\n",
    "    for elem in obj:\n",
    "        s += elem\n",
    "\n",
    "\n",
    "# Fast string concatenation\n",
    "def join_string():\n",
    "    s = [\"hello\", \"my\", \"name\", \"is\", \"Ayub\", \"!\"]\n",
    "    \"\".join(s)\n",
    "\n",
    "\n",
    "# Slow loop append\n",
    "def for_loop_append():\n",
    "    obj = [\"hello\", \"my\", \"name\", \"is\", \"Ayub\", \"!\"]\n",
    "    new = []\n",
    "    for i in obj:\n",
    "        new.append(i.upper())\n",
    "\n",
    "\n",
    "# Fast map append\n",
    "def get_upper(x):\n",
    "    return x.upper()\n",
    "\n",
    "def map_append():\n",
    "    obj = [\"hello\", \"my\", \"name\", \"is\", \"Ayub\", \"!\"]\n",
    "    map(get_upper, obj)\n",
    "\n",
    "\n",
    "# Slow list membership\n",
    "def create_word_iterable():\n",
    "    word_site = \"https://www.mit.edu/~ecprice/wordlist.10000\"\n",
    "    response = requests.get(word_site)\n",
    "    word_list = response.content.splitlines()[0:50]  # 50 words\n",
    "    word_set = set(word_list)\n",
    "    return word_list, word_set\n",
    "\n",
    "def list_membership():\n",
    "    word_list, _ = create_word_iterable()\n",
    "    'banana' in word_list\n",
    "    'kiwi' in word_list    \n",
    "\n",
    "\n",
    "# Fast set membership\n",
    "def set_membership():\n",
    "    _, word_set = create_word_iterable()\n",
    "    'banana' in word_set\n",
    "    'kiwi' in word_set     "
   ]
  },
  {
   "cell_type": "markdown",
   "metadata": {},
   "source": [
    "### For loop vs. list comprehension\n",
    "\n",
    "* Ran a for loop 100 times and appended to a list. Time was 4.181 seconds\n",
    "* Ran a list comprehension 100 times. Time was 2.270 seconds."
   ]
  },
  {
   "cell_type": "code",
   "execution_count": 3,
   "metadata": {},
   "outputs": [
    {
     "name": "stdout",
     "output_type": "stream",
     "text": [
      "Time to run append 100 times = 4.239 seconds.\n"
     ]
    }
   ],
   "source": [
    "t = timeit.Timer(setup='from __main__ import loop_list_append', stmt='loop_list_append()')\n",
    "print(f\"Time to run append 100 times = {t.timeit():.3f} seconds.\")"
   ]
  },
  {
   "cell_type": "code",
   "execution_count": 4,
   "metadata": {},
   "outputs": [
    {
     "name": "stdout",
     "output_type": "stream",
     "text": [
      "Time to run append 100 times = 2.336 seconds.\n"
     ]
    }
   ],
   "source": [
    "t = timeit.Timer(setup='from __main__ import comprehension_list_append', stmt='comprehension_list_append()')\n",
    "print(f\"Time to run append 100 times = {t.timeit():.3f} seconds.\")"
   ]
  },
  {
   "cell_type": "markdown",
   "metadata": {},
   "source": [
    "### Avoid string concatenation\n",
    "\n",
    "* Do not use += operator on strings\n",
    "* Within a loop it is slow since strings are immutable\n",
    "* Use `str.join()` method for efficient concatenation\n",
    "* String concatenation using += took 0.380 seconds\n",
    "* String concatenation using .join took 0.278 seconds"
   ]
  },
  {
   "cell_type": "code",
   "execution_count": 5,
   "metadata": {},
   "outputs": [
    {
     "name": "stdout",
     "output_type": "stream",
     "text": [
      "Time to concatenate strings using += operator = 0.376 seconds.\n"
     ]
    }
   ],
   "source": [
    "t = timeit.Timer(setup='from __main__ import addition_assignment_string', stmt='addition_assignment_string()')\n",
    "print(f\"Time to concatenate strings using += operator = {t.timeit():.3f} seconds.\")"
   ]
  },
  {
   "cell_type": "code",
   "execution_count": 6,
   "metadata": {},
   "outputs": [
    {
     "name": "stdout",
     "output_type": "stream",
     "text": [
      "Time to concatenate strings using .join operator = 0.193 seconds.\n"
     ]
    }
   ],
   "source": [
    "t = timeit.Timer(setup='from __main__ import join_string', stmt='join_string()')\n",
    "print(f\"Time to concatenate strings using .join operator = {t.timeit():.3f} seconds.\")"
   ]
  },
  {
   "cell_type": "markdown",
   "metadata": {},
   "source": [
    "### For loop vs. Map\n",
    "\n",
    "* Replace for loops with the more efficient `map()` function\n",
    "* Apply a given function to each item of an iterable (list, tuple, string)\n",
    "* Maps generate a new iterable containing the results of applying the function\n",
    "* String concatenation using a for loop took 0.613 seconds\n",
    "* String concatenation using map took 0.208 seconds"
   ]
  },
  {
   "cell_type": "code",
   "execution_count": 7,
   "metadata": {},
   "outputs": [
    {
     "name": "stdout",
     "output_type": "stream",
     "text": [
      "Time to concatenate strings using a for loop = 0.605 seconds.\n"
     ]
    }
   ],
   "source": [
    "t = timeit.Timer(setup='from __main__ import for_loop_append', stmt='for_loop_append()')\n",
    "print(f\"Time to concatenate strings using a for loop = {t.timeit():.3f} seconds.\")"
   ]
  },
  {
   "cell_type": "code",
   "execution_count": 8,
   "metadata": {},
   "outputs": [
    {
     "name": "stdout",
     "output_type": "stream",
     "text": [
      "Time to concatenate strings using map function = 0.203 seconds.\n"
     ]
    }
   ],
   "source": [
    "t = timeit.Timer(setup='from __main__ import map_append', stmt='map_append()')\n",
    "print(f\"Time to concatenate strings using map function = {t.timeit():.3f} seconds.\")"
   ]
  },
  {
   "cell_type": "markdown",
   "metadata": {},
   "source": [
    "### List vs Set membership test"
   ]
  },
  {
   "cell_type": "code",
   "execution_count": null,
   "metadata": {},
   "outputs": [],
   "source": [
    "t = timeit.Timer(setup='from __main__ import list_membership', stmt='list_membership()')\n",
    "print(f\"Time to check if an element exists in a list = {t.timeit():.3f} seconds.\")"
   ]
  },
  {
   "cell_type": "code",
   "execution_count": null,
   "metadata": {},
   "outputs": [],
   "source": [
    "t = timeit.Timer(setup='from __main__ import set_membership', stmt='set_membership()')\n",
    "print(f\"Time to check if an element exists in a set = {t.timeit():.3f} seconds.\")"
   ]
  }
 ],
 "metadata": {
  "kernelspec": {
   "display_name": "Python 3",
   "language": "python",
   "name": "python3"
  },
  "language_info": {
   "codemirror_mode": {
    "name": "ipython",
    "version": 3
   },
   "file_extension": ".py",
   "mimetype": "text/x-python",
   "name": "python",
   "nbconvert_exporter": "python",
   "pygments_lexer": "ipython3",
   "version": "3.10.8"
  },
  "orig_nbformat": 4
 },
 "nbformat": 4,
 "nbformat_minor": 2
}
